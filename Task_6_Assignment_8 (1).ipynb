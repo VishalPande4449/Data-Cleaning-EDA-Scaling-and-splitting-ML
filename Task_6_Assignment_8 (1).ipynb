{
  "nbformat": 4,
  "nbformat_minor": 0,
  "metadata": {
    "colab": {
      "name": "Task 6 Assignment 8.ipynb",
      "provenance": [],
      "collapsed_sections": []
    },
    "kernelspec": {
      "name": "python3",
      "display_name": "Python 3"
    },
    "language_info": {
      "name": "python"
    }
  },
  "cells": [
    {
      "cell_type": "markdown",
      "source": [
        "\n",
        "# **Assignment8**"
      ],
      "metadata": {
        "id": "n-WigCNKaDGC"
      }
    },
    {
      "cell_type": "code",
      "source": [
        "import pandas as pd\n",
        "import matplotlib.pyplot as plt\n",
        "import numpy as np\n",
        "from sklearn import linear_model"
      ],
      "metadata": {
        "id": "Ab1rZN0yZ_9S"
      },
      "execution_count": null,
      "outputs": []
    },
    {
      "cell_type": "markdown",
      "source": [
        "\n",
        "**How Much is Your Car Worth?**\n",
        "\n",
        "Data about the retail price of 2005 General Motors cars can be found in car_data.csv.\n",
        "\n",
        "The columns are:\n",
        "\n",
        "1. Price: suggested retail price of the used 2005 GM car in excellent condition.\n",
        "2. Mileage: number of miles the car has been driven\n",
        "3. Make: manufacturer of the car such as Saturn, Pontiac, and Chevrolet\n",
        "4. Model: specific models for each car manufacturer such as Ion, Vibe, Cavalier\n",
        "5. Trim (of car): specific type of car model such as SE Sedan 4D, Quad Coupe 2D\n",
        "6. Type: body type such as sedan, coupe, etc.\n",
        "7. Cylinder: number of cylinders in the engine\n",
        "8. Liter: a more specific measure of engine size\n",
        "9. Doors: number of doors\n",
        "10. Cruise: indicator variable representing whether the car has cruise control (1 = cruise)\n",
        "11. Sound: indicator variable representing whether the car has upgraded speakers (1 = upgraded)\n",
        "12. Leather: indicator variable representing whether the car has leather seats (1 = leather)\n",
        "\n",
        "# Tasks Part 1\n",
        "\n",
        "1. Find the linear regression equation for mileage vs price.\n",
        "2. Chart the original data and the equation on the chart.\n",
        "3. Find the equation's R² score (use the .score method) to determine whether the equation is a good fit for this data. (0.8 and greater is considered a strong correlation.)\n",
        " \n",
        "# Tasks Part 2\n",
        "1. Use mileage, cylinders, liters, doors, cruise, sound, and leather to find the linear regression equation.\n",
        "2. Find the equation's R² score (use the .score method) to determine whether the equation is a good fit for this data. (0.8 and greater is considered a strong correlation.)\n",
        "3. Find the combination of the factors that is the best predictor for price.\n",
        "\n",
        "# Tasks , Hard Mode\n",
        "1. Research dummy variables in scikit-learn to see how to use the make, model, and body type.\n",
        "2. Find the best combination of factors to predict price."
      ],
      "metadata": {
        "id": "YuBBB8-EZ_p1"
      }
    },
    {
      "cell_type": "markdown",
      "source": [
        "**Loading the data**"
      ],
      "metadata": {
        "id": "aEwJquL1iucE"
      }
    },
    {
      "cell_type": "code",
      "source": [
        "df = pd.read_csv(\"/content/car_data.csv\")"
      ],
      "metadata": {
        "id": "q_ZAmqGMZ_Uc"
      },
      "execution_count": null,
      "outputs": []
    },
    {
      "cell_type": "markdown",
      "source": [
        "**Finding Shape**"
      ],
      "metadata": {
        "id": "BSPK_D1YZ-8c"
      }
    },
    {
      "cell_type": "code",
      "source": [
        "df.shape"
      ],
      "metadata": {
        "id": "J-lxnQ_wZ-ke"
      },
      "execution_count": null,
      "outputs": []
    },
    {
      "cell_type": "code",
      "source": [
        "df.head()"
      ],
      "metadata": {
        "id": "Yzqk6t8PZ-FR"
      },
      "execution_count": null,
      "outputs": []
    },
    {
      "cell_type": "code",
      "source": [
        "df.describe()"
      ],
      "metadata": {
        "id": "c4hNSLmujLQ8"
      },
      "execution_count": null,
      "outputs": []
    },
    {
      "cell_type": "markdown",
      "source": [
        "**Finding Outliers**"
      ],
      "metadata": {
        "id": "87L3SyyyZ9qa"
      }
    },
    {
      "cell_type": "code",
      "source": [
        "import seaborn as sns \n",
        "sns.boxplot(df[\"Price\"])"
      ],
      "metadata": {
        "id": "C-T4-BiXZ9bl"
      },
      "execution_count": null,
      "outputs": []
    },
    {
      "cell_type": "markdown",
      "source": [
        "**Calculating IQR**"
      ],
      "metadata": {
        "id": "vZRT2UmlZ9L8"
      }
    },
    {
      "cell_type": "code",
      "source": [
        "percentile25 = df['Price'].quantile(0.25)\n",
        "percentile75 = df['Price'].quantile(0.75)\n",
        "print(\"25th percentile of the data is \",percentile25)\n",
        "print(\"75th percentile of the data is \",percentile75)\n",
        "print(\"IQR :\", percentile75-percentile25)"
      ],
      "metadata": {
        "id": "_XNEqWGcZ8vj"
      },
      "execution_count": null,
      "outputs": []
    },
    {
      "cell_type": "markdown",
      "source": [
        "**Calculating Min Max Values**"
      ],
      "metadata": {
        "id": "SgiVfXjdZ8iI"
      }
    },
    {
      "cell_type": "code",
      "source": [
        "max_value = percentile75 + 1.5 * (percentile75-percentile25)\n",
        "min_value = percentile25 - 1.5 * (percentile75-percentile25)\n",
        "print(max_value)\n",
        "print(min_value)"
      ],
      "metadata": {
        "id": "pSzO9rl7Z8T-"
      },
      "execution_count": null,
      "outputs": []
    },
    {
      "cell_type": "markdown",
      "source": [
        "**Cleaning Outliers By Using Capping Technique**"
      ],
      "metadata": {
        "id": "4DKHyEjNZ8EV"
      }
    },
    {
      "cell_type": "code",
      "source": [
        "df['Price'] = np.where(\n",
        "    df['Price']>max_value,\n",
        "    max_value,\n",
        "    np.where(\n",
        "        df['Price']<min_value,\n",
        "        min_value,\n",
        "        df['Price']\n",
        "    ) \n",
        ")\n",
        "df['Price'].describe()"
      ],
      "metadata": {
        "id": "-JUeSBvrZ73C"
      },
      "execution_count": null,
      "outputs": []
    },
    {
      "cell_type": "code",
      "source": [
        "sns.boxplot(df['Price'])"
      ],
      "metadata": {
        "id": "2LkEFi8nZ3lm"
      },
      "execution_count": null,
      "outputs": []
    },
    {
      "cell_type": "markdown",
      "source": [
        "**Finding Outliers**"
      ],
      "metadata": {
        "id": "_B7FfFJ2MGaa"
      }
    },
    {
      "cell_type": "code",
      "source": [
        "sns.boxplot(df['Mileage'])"
      ],
      "metadata": {
        "id": "q2xIVEmrZ7NV"
      },
      "execution_count": null,
      "outputs": []
    },
    {
      "cell_type": "markdown",
      "source": [
        "**Calculating IQR**"
      ],
      "metadata": {
        "id": "8HtSPEa6Z67n"
      }
    },
    {
      "cell_type": "code",
      "source": [
        "percentile25 = df['Mileage'].quantile(0.25)\n",
        "percentile75 = df['Mileage'].quantile(0.75)\n",
        "print(\"25th percentile of the data is \",percentile25)\n",
        "print(\"75th percentile of the data is \",percentile75)\n",
        "print(\"IQR :\", percentile75-percentile25)"
      ],
      "metadata": {
        "id": "bXyhjHrHZ6ja"
      },
      "execution_count": null,
      "outputs": []
    },
    {
      "cell_type": "markdown",
      "source": [
        "**Calculating Min Max Values**"
      ],
      "metadata": {
        "id": "0E_tEyZTZ6UK"
      }
    },
    {
      "cell_type": "code",
      "source": [
        "max_value = percentile75 + 1.5 * (percentile75-percentile25)\n",
        "min_value = percentile25 - 1.5 * (percentile75-percentile25)\n",
        "print(max_value)\n",
        "print(min_value)"
      ],
      "metadata": {
        "id": "55bBp0M_Z2Wg"
      },
      "execution_count": null,
      "outputs": []
    },
    {
      "cell_type": "markdown",
      "source": [
        "**Cleaning Outliers By Using Capping Technique**"
      ],
      "metadata": {
        "id": "sYTujAq6MgRO"
      }
    },
    {
      "cell_type": "code",
      "execution_count": null,
      "metadata": {
        "id": "rK12zXgLYaVb"
      },
      "outputs": [],
      "source": [
        "df['Mileage'] = np.where(\n",
        "    df['Mileage']>max_value,\n",
        "    max_value,\n",
        "    np.where(\n",
        "        df['Mileage']<min_value,\n",
        "        min_value,\n",
        "        df['Mileage']\n",
        "    ) \n",
        ")\n",
        "df['Mileage'].describe()"
      ]
    },
    {
      "cell_type": "code",
      "source": [
        "sns.boxplot(df['Mileage'])"
      ],
      "metadata": {
        "id": "V4iLO580Mw2G"
      },
      "execution_count": null,
      "outputs": []
    },
    {
      "cell_type": "markdown",
      "source": [
        "**No Outliers in data.**"
      ],
      "metadata": {
        "id": "vk6h9wsZMywe"
      }
    },
    {
      "cell_type": "code",
      "source": [
        "df.isnull().sum()"
      ],
      "metadata": {
        "id": "ML84xJZjNCeI"
      },
      "execution_count": null,
      "outputs": []
    },
    {
      "cell_type": "code",
      "source": [
        "df = df.drop_duplicates()"
      ],
      "metadata": {
        "id": "m6N0BT0oND88"
      },
      "execution_count": null,
      "outputs": []
    },
    {
      "cell_type": "code",
      "source": [
        "df.dtypes\n"
      ],
      "metadata": {
        "id": "63NGs58PNFL0"
      },
      "execution_count": null,
      "outputs": []
    },
    {
      "cell_type": "markdown",
      "source": [
        "# Tasks, Part 1\n",
        "**Checking Linear Relationship Between Mileage Feature and Price Target**"
      ],
      "metadata": {
        "id": "Xt9y9lS-NJie"
      }
    },
    {
      "cell_type": "code",
      "source": [
        "df.plot(x='Mileage', y='Price', style='o')\n",
        "plt.title('Mileage vs Price')\n",
        "plt.xlabel('Mileage')\n",
        "plt.ylabel('Price')\n",
        "plt.show()"
      ],
      "metadata": {
        "id": "oH2cJcE_NP-a"
      },
      "execution_count": null,
      "outputs": []
    },
    {
      "cell_type": "code",
      "source": [
        "df[['Mileage','Price']].corr()"
      ],
      "metadata": {
        "id": "qAZLZDG0NSHa"
      },
      "execution_count": null,
      "outputs": []
    },
    {
      "cell_type": "markdown",
      "source": [
        "No Linear Relationship in between Mileage feature and Price target."
      ],
      "metadata": {
        "id": "frn4fYdTNPOK"
      }
    },
    {
      "cell_type": "markdown",
      "source": [
        "**1. Find the linear regression equation for mileage vs price.**"
      ],
      "metadata": {
        "id": "akmfJlepNYjr"
      }
    },
    {
      "cell_type": "code",
      "source": [
        "X = df[['Mileage']].values \n",
        "y = df['Price'].values "
      ],
      "metadata": {
        "id": "hwyzC_DoNzbl"
      },
      "execution_count": null,
      "outputs": []
    },
    {
      "cell_type": "code",
      "source": [
        "from sklearn.model_selection import train_test_split\n",
        "X_train, X_test, y_train, y_test = train_test_split(X, y, test_size=0.2, random_state=0)\n"
      ],
      "metadata": {
        "id": "oQ64jEzbN318"
      },
      "execution_count": null,
      "outputs": []
    },
    {
      "cell_type": "code",
      "source": [
        "from sklearn.linear_model import LinearRegression\n",
        "regressor = LinearRegression()\n",
        "regressor.fit(X_train, y_train)"
      ],
      "metadata": {
        "id": "ByHZq-6FN5Vf"
      },
      "execution_count": null,
      "outputs": []
    },
    {
      "cell_type": "code",
      "source": [
        "m=regressor.coef_\n",
        "c=regressor.intercept_\n",
        "y=m*8221+c\n",
        "print(\"y =\",y)"
      ],
      "metadata": {
        "id": "ZS_IJ8DGN6_d"
      },
      "execution_count": null,
      "outputs": []
    },
    {
      "cell_type": "markdown",
      "source": [
        "**2. Chart the original data and the equation on the chart.**"
      ],
      "metadata": {
        "id": "vPTEx_ONOAKP"
      }
    },
    {
      "cell_type": "code",
      "source": [
        "plt.scatter(X,y)\n",
        "y_new = regressor.coef_*X + regressor.intercept_ \n",
        "plt.plot(X_new,y_new, 'r',lw=3, label='regression line') \n",
        "                                                     \n",
        "plt.xlabel('Mileage', fontsize=20)      \n",
        "plt.ylabel('Price', fontsize=20)       \n",
        "plt.show()"
      ],
      "metadata": {
        "id": "V_BIhDT7di9j"
      },
      "execution_count": null,
      "outputs": []
    },
    {
      "cell_type": "code",
      "source": [
        "y_pred = regressor.predict(X_test)"
      ],
      "metadata": {
        "id": "-wD_E-ECOQUc"
      },
      "execution_count": null,
      "outputs": []
    },
    {
      "cell_type": "code",
      "source": [
        "df = pd.DataFrame({'Actual': y_test, 'Predicted': y_pred})\n",
        "df.head()"
      ],
      "metadata": {
        "id": "LabKpQE-OT32"
      },
      "execution_count": null,
      "outputs": []
    },
    {
      "cell_type": "markdown",
      "source": [
        "**3. Find the equation's R² score (use the .score method) to determine whether the equation is a good fit for this data. (0.8 and greater is considered a strong correlation.)**"
      ],
      "metadata": {
        "id": "OLjFrfRDOP34"
      }
    },
    {
      "cell_type": "code",
      "source": [
        "from sklearn import metrics \n",
        "print('R2- SCORE:', metrics.r2_score(y_test,y_pred))\n"
      ],
      "metadata": {
        "id": "845zZDURO_H7"
      },
      "execution_count": null,
      "outputs": []
    },
    {
      "cell_type": "markdown",
      "source": [
        "The r2 sqaure value of Mileage and price columns are 0.009.\n",
        "\n",
        "There is no linear relationship in between these two columns.\n",
        "\n",
        "The correlation value also not in range.Because no linear relationship."
      ],
      "metadata": {
        "id": "UFnbfyHfN_7R"
      }
    },
    {
      "cell_type": "markdown",
      "source": [
        "**Tasks, Part 2**\n",
        "1. Use mileage, cylinders, liters, doors, cruise, sound, and leather to find the linear regression equation.\n",
        "2. Find the equation's R² score (use the .score method) to determine whether the equation is a good fit for this data. (0.8 and greater is considered a strong correlation.)\n",
        "3. Find the combination of the factors that is the best predictor for price."
      ],
      "metadata": {
        "id": "0vDfcLbJPDTY"
      }
    },
    {
      "cell_type": "markdown",
      "source": [
        "**Checking Linear Relationship in between Cylinder feature and Price**"
      ],
      "metadata": {
        "id": "gaqtEpwSQr_P"
      }
    },
    {
      "cell_type": "code",
      "source": [
        "df.groupby('Cylinder')['Price'].mean().plot()\n",
        "plt.title('Cylinder vs Price')\n",
        "plt.xlabel('Cylinder')\n",
        "plt.ylabel('Price')\n",
        "plt.show()"
      ],
      "metadata": {
        "id": "d6o3D2KvQfU8"
      },
      "execution_count": null,
      "outputs": []
    },
    {
      "cell_type": "code",
      "source": [
        "df[['Cylinder','Price']].corr()"
      ],
      "metadata": {
        "id": "9eFKy398Qwr1"
      },
      "execution_count": null,
      "outputs": []
    },
    {
      "cell_type": "markdown",
      "source": [
        "There is a Linear Relationship in between the Cylinder and Price column.\n",
        "\n",
        "No Transformation is Required.\n",
        "\n",
        "We will apply Linear Regression Model to this column."
      ],
      "metadata": {
        "id": "SydPSoOQQyvV"
      }
    },
    {
      "cell_type": "markdown",
      "source": [
        "**Checking Linear Relatonship in between Liter feature and Price target**"
      ],
      "metadata": {
        "id": "Zixc3yWdQ4MA"
      }
    },
    {
      "cell_type": "code",
      "source": [
        "df.groupby('Liter')['Price'].mean().plot()\n",
        "plt.title('Liter vs Price')\n",
        "plt.xlabel('Liter')\n",
        "plt.ylabel('Price')\n",
        "plt.show()"
      ],
      "metadata": {
        "id": "LYSDIz9qQ694"
      },
      "execution_count": null,
      "outputs": []
    },
    {
      "cell_type": "code",
      "source": [
        "df[['Liter','Price']].corr()"
      ],
      "metadata": {
        "id": "aHutku9_Q85h"
      },
      "execution_count": null,
      "outputs": []
    },
    {
      "cell_type": "markdown",
      "source": [
        "There is a Linear Relationship in between the Liter and Price column.\n",
        "\n",
        "No Transformation is Required.\n",
        "\n",
        "We will apply Linear Regression Model to this column."
      ],
      "metadata": {
        "id": "59pTh4vQQ_pm"
      }
    },
    {
      "cell_type": "markdown",
      "source": [
        "**Checking Linear Relationship between Doors feature and Price target**"
      ],
      "metadata": {
        "id": "RbDQrWZzRB08"
      }
    },
    {
      "cell_type": "code",
      "source": [
        "df.groupby('Doors')['Price'].mean().plot()\n",
        "plt.title('Doors vs Price')\n",
        "plt.xlabel('Doors')\n",
        "plt.ylabel('Price')\n",
        "plt.show()"
      ],
      "metadata": {
        "id": "kCMQmSptRBYH"
      },
      "execution_count": null,
      "outputs": []
    },
    {
      "cell_type": "code",
      "source": [
        "df[['Cruise','Price']].corr()"
      ],
      "metadata": {
        "id": "ylTkrna2ReZx"
      },
      "execution_count": null,
      "outputs": []
    },
    {
      "cell_type": "markdown",
      "source": [
        "There is a Linear Relationship in between the Cruise and Price column.\n",
        "\n",
        "No Transformation is Required.\n",
        "\n",
        "We will apply Linear Regression Model to this column."
      ],
      "metadata": {
        "id": "HZAEY02zRo2F"
      }
    },
    {
      "cell_type": "markdown",
      "source": [
        "**Checking Linear Relationship in between Sound feature and Price target**"
      ],
      "metadata": {
        "id": "AnCxD8TYRwE8"
      }
    },
    {
      "cell_type": "code",
      "source": [
        "df.groupby('Sound')['Price'].mean().plot()\n",
        "plt.title('Sound vs Price')\n",
        "plt.xlabel('Sound')\n",
        "plt.ylabel('Price')\n",
        "plt.show()"
      ],
      "metadata": {
        "id": "mAQTF1vDReNp"
      },
      "execution_count": null,
      "outputs": []
    },
    {
      "cell_type": "markdown",
      "source": [
        "There is a linear relationship in between the Sound feature and Price target."
      ],
      "metadata": {
        "id": "D_tnPww0R1Io"
      }
    },
    {
      "cell_type": "markdown",
      "source": [
        "**Checking Linear Relationship in between Leather feature and Price target**"
      ],
      "metadata": {
        "id": "4OycK8vuR28y"
      }
    },
    {
      "cell_type": "code",
      "source": [
        "df.groupby('Leather')['Price'].mean().plot()\n",
        "plt.title('Leather vs Price')\n",
        "plt.xlabel('Leather')\n",
        "plt.ylabel('Price')\n",
        "plt.show()"
      ],
      "metadata": {
        "id": "FIJux9aGR5rv"
      },
      "execution_count": null,
      "outputs": []
    },
    {
      "cell_type": "markdown",
      "source": [
        "There is a linear relationship in between the Leather feature and Price target.\n",
        "\n"
      ],
      "metadata": {
        "id": "YmSIwiUjR9uo"
      }
    },
    {
      "cell_type": "markdown",
      "source": [
        "**Splitting the data**"
      ],
      "metadata": {
        "id": "58NdtLmTR9iX"
      }
    },
    {
      "cell_type": "code",
      "source": [
        "X = df[['Mileage', 'Cylinder', 'Liter', 'Doors', 'Cruise', 'Sound', 'Leather']].values \n",
        "y = df['Price'].values "
      ],
      "metadata": {
        "id": "GVB4FocRR9HU"
      },
      "execution_count": null,
      "outputs": []
    },
    {
      "cell_type": "markdown",
      "source": [
        "**Scaling the data**"
      ],
      "metadata": {
        "id": "GEaIXn6fSHXx"
      }
    },
    {
      "cell_type": "code",
      "source": [
        "from sklearn.preprocessing import StandardScaler \n",
        "scaler = StandardScaler() \n",
        "scaler.fit(X_train,y_train) \n",
        "X_train_scaled = scaler.transform(X_train) \n",
        "X_test_scaled = scaler.transform(X_test) "
      ],
      "metadata": {
        "id": "3bUbVNsDSKcs"
      },
      "execution_count": null,
      "outputs": []
    },
    {
      "cell_type": "code",
      "source": [
        "scaler.var_"
      ],
      "metadata": {
        "id": "sRED0LVFSMkl"
      },
      "execution_count": null,
      "outputs": []
    },
    {
      "cell_type": "markdown",
      "source": [
        "**Model Fitting**"
      ],
      "metadata": {
        "id": "G2BSLaieSOMu"
      }
    },
    {
      "cell_type": "code",
      "source": [
        "from sklearn.linear_model import LinearRegression\n",
        "regressor = LinearRegression()\n",
        "regressor.fit(X_train, y_train)"
      ],
      "metadata": {
        "id": "quhXv3wJSVy5"
      },
      "execution_count": null,
      "outputs": []
    },
    {
      "cell_type": "markdown",
      "source": [
        "**Calculating Coefficients and Intercept**"
      ],
      "metadata": {
        "id": "ct1NstkISZg7"
      }
    },
    {
      "cell_type": "code",
      "source": [
        "coeff_df = pd.DataFrame(regressor.coef_,[b], columns=['Coefficient'])\n",
        "y_pred = regressor.predict(X_test_scaled)\n",
        "coeff_df"
      ],
      "metadata": {
        "id": "IIkCXxrEfryz"
      },
      "execution_count": null,
      "outputs": []
    },
    {
      "cell_type": "code",
      "source": [
        "regressor.intercept_"
      ],
      "metadata": {
        "id": "IrE2DyyQUgxw"
      },
      "execution_count": null,
      "outputs": []
    },
    {
      "cell_type": "markdown",
      "source": [
        "**1. Use mileage, cylinders, liters, doors, cruise, sound, and leather to find the linear regression equation.**"
      ],
      "metadata": {
        "id": "PFUynDr8UibZ"
      }
    },
    {
      "cell_type": "code",
      "source": [
        "m=regressor.coef_\n",
        "c=regressor.intercept_\n",
        "y=regressor.predict([[8221,6,3.1,4,1,1,1]]) #y=mx+c\n",
        "print('y=',y)"
      ],
      "metadata": {
        "id": "okgsbEoZUl45"
      },
      "execution_count": null,
      "outputs": []
    },
    {
      "cell_type": "code",
      "source": [
        "df2 = pd.DataFrame({'Actual': y_test, 'Predicted': y_pred})\n",
        "df2"
      ],
      "metadata": {
        "id": "Wx1U4qJgUnoa"
      },
      "execution_count": null,
      "outputs": []
    },
    {
      "cell_type": "markdown",
      "source": [
        "**2. Find the equation's R²  score (use the .score method) to determine whether the equation is a good fit for this data. (0.8 and greater is considered a strong correlation.)**"
      ],
      "metadata": {
        "id": "NXE7SGd1VMg1"
      }
    },
    {
      "cell_type": "markdown",
      "source": [
        "**Evaluation Metric-R2 Square**"
      ],
      "metadata": {
        "id": "KR8BhLMaVPFM"
      }
    },
    {
      "cell_type": "code",
      "source": [
        "from sklearn import metrics\n",
        "print('R2- SCORE:', metrics.r2_score(y_test,y_pred))"
      ],
      "metadata": {
        "id": "_rNzcUROVXFX"
      },
      "execution_count": null,
      "outputs": []
    },
    {
      "cell_type": "markdown",
      "source": [
        "The r2square value is 0.33.\n",
        "\n",
        "No feature having the correlation value 0.8.\n",
        "\n",
        "The euation for this data is not good fit."
      ],
      "metadata": {
        "id": "UIO2RUOQVV-H"
      }
    },
    {
      "cell_type": "markdown",
      "source": [
        "**3. Find the combination of the factors that is the best predictor for price.**"
      ],
      "metadata": {
        "id": "DJQCqb7gWmvH"
      }
    },
    {
      "cell_type": "markdown",
      "source": [
        "**Feature Selection**"
      ],
      "metadata": {
        "id": "WS05mkc_WpQP"
      }
    },
    {
      "cell_type": "code",
      "source": [
        "from sklearn.feature_selection import RFE\n",
        "estimator = LinearRegression()\n",
        "selector = RFE(estimator, n_features_to_select=6, step=1)\n",
        "selector = selector.fit(X_train_scaled, y_train)\n",
        "list(zip(['Mileage', 'Cylinder', 'Liter', 'Doors', 'Cruise', 'Sound', 'Leather'],selector.support_))\n"
      ],
      "metadata": {
        "id": "MPNnVorcWshS"
      },
      "execution_count": null,
      "outputs": []
    },
    {
      "cell_type": "code",
      "source": [
        "!pip install scikit-learn==0.24.2"
      ],
      "metadata": {
        "id": "tljeAlY1WuTP"
      },
      "execution_count": null,
      "outputs": []
    },
    {
      "cell_type": "markdown",
      "source": [
        "**Selecting Important features by using Sequential Feature Selector**"
      ],
      "metadata": {
        "id": "9SQIyNKYWwap"
      }
    },
    {
      "cell_type": "code",
      "source": [
        "from sklearn.feature_selection import SequentialFeatureSelector\n",
        "estimator = LinearRegression()\n",
        "sfs = SequentialFeatureSelector(estimator, n_features_to_select=2)\n",
        "sfs.fit(X_train_scaled, y_train)\n",
        "print(list(zip(['Mileage', 'Cylinder', 'Liter', 'Doors', 'Cruise', 'Sound', 'Leather'],sfs.get_support())))\n"
      ],
      "metadata": {
        "id": "Oe1l9V7YWzQ2"
      },
      "execution_count": null,
      "outputs": []
    },
    {
      "cell_type": "markdown",
      "source": [
        "From the above;Cylinder and Cruise combination factrors are the best predictor for price."
      ],
      "metadata": {
        "id": "exoeJUPgW1_3"
      }
    },
    {
      "cell_type": "markdown",
      "source": [
        "**Tasks, Hard Mode**\n",
        "Research dummy variables in scikit-learn to see how to use the make, model, and body type.\n",
        "Find the best combination of factors to predict price."
      ],
      "metadata": {
        "id": "_Oof8E9rW41B"
      }
    },
    {
      "cell_type": "markdown",
      "source": [
        "**1. Research dummy variables in scikit-learn to see how to use the make, model, and body type.**"
      ],
      "metadata": {
        "id": "AKIVf6iPW7Tk"
      }
    },
    {
      "cell_type": "code",
      "source": [
        "df=pd.get_dummies(df,columns=[\"Make\",\"Model\",\"Trim\",\"Type\"])\n",
        "df.head()"
      ],
      "metadata": {
        "id": "Q_jMbM9dW-ZL"
      },
      "execution_count": null,
      "outputs": []
    },
    {
      "cell_type": "code",
      "source": [
        "df.columns"
      ],
      "metadata": {
        "id": "_cPAm7q8XI91"
      },
      "execution_count": null,
      "outputs": []
    },
    {
      "cell_type": "markdown",
      "source": [
        "**Selecting Dummy variables for Perticular columns**"
      ],
      "metadata": {
        "id": "bHzfmDDfW9-A"
      }
    },
    {
      "cell_type": "code",
      "source": [
        "X = df[['Make_Buick', 'Make_Cadillac', 'Make_Chevrolet',\n",
        "       'Make_Pontiac', 'Make_SAAB', 'Make_Saturn', 'Model_9-2X AWD',\n",
        "       'Model_9_3', 'Model_9_3 HO', 'Model_9_5', 'Model_9_5 HO', 'Model_AVEO',\n",
        "       'Model_Bonneville', 'Model_CST-V', 'Model_CTS', 'Model_Cavalier',\n",
        "       'Model_Century', 'Model_Classic', 'Model_Cobalt', 'Model_Corvette',\n",
        "       'Model_Deville', 'Model_G6', 'Model_GTO', 'Model_Grand Am',\n",
        "       'Model_Grand Prix', 'Model_Impala', 'Model_Ion', 'Model_L Series',\n",
        "       'Model_Lacrosse', 'Model_Lesabre', 'Model_Malibu', 'Model_Monte Carlo',\n",
        "       'Model_Park Avenue', 'Model_STS-V6', 'Model_STS-V8', 'Model_Sunfire',\n",
        "       'Model_Vibe', 'Model_XLR-V8','Type_Convertible', 'Type_Coupe',\n",
        "       'Type_Hatchback', 'Type_Sedan', 'Type_Wagon']].values \n",
        "y = df['Price'].values "
      ],
      "metadata": {
        "id": "3cGix23fXOOW"
      },
      "execution_count": null,
      "outputs": []
    },
    {
      "cell_type": "markdown",
      "source": [
        "Splitting"
      ],
      "metadata": {
        "id": "3lfEvAV4XWaD"
      }
    },
    {
      "cell_type": "code",
      "source": [
        "from sklearn.model_selection import train_test_split\n",
        "X_train, X_test, y_train, y_test = train_test_split(X, y, test_size=0.2, random_state=0)\n"
      ],
      "metadata": {
        "id": "SpODl2unXRmi"
      },
      "execution_count": null,
      "outputs": []
    },
    {
      "cell_type": "markdown",
      "source": [
        "**Scaling**"
      ],
      "metadata": {
        "id": "n3UrANfGXTMK"
      }
    },
    {
      "cell_type": "code",
      "source": [
        "from sklearn.preprocessing import StandardScaler \n",
        "scaler = StandardScaler() \n",
        "scaler.fit(X_train,y_train) \n",
        "X_train_scaled = scaler.transform(X_train) \n",
        "X_test_scaled = scaler.transform(X_test) "
      ],
      "metadata": {
        "id": "d6kcwufzXY9X"
      },
      "execution_count": null,
      "outputs": []
    },
    {
      "cell_type": "code",
      "source": [
        "scaler.var_"
      ],
      "metadata": {
        "id": "PxsV3IzYXaKd"
      },
      "execution_count": null,
      "outputs": []
    },
    {
      "cell_type": "markdown",
      "source": [
        "Model fitting\n",
        "\n"
      ],
      "metadata": {
        "id": "WQrCPRS0XYhy"
      }
    },
    {
      "cell_type": "code",
      "source": [
        "from sklearn.linear_model import LinearRegression\n",
        "regressor = LinearRegression()\n",
        "regressor.fit(X_train_scaled, y_train)"
      ],
      "metadata": {
        "id": "uq0dNS-NXwcE"
      },
      "execution_count": null,
      "outputs": []
    },
    {
      "cell_type": "code",
      "source": [
        "LinearRegression()"
      ],
      "metadata": {
        "id": "W4YtSEg4XyIS"
      },
      "execution_count": null,
      "outputs": []
    },
    {
      "cell_type": "markdown",
      "source": [
        "**Finding Coefficiets and Intercept**"
      ],
      "metadata": {
        "id": "X1YTNZVEX0KY"
      }
    },
    {
      "cell_type": "code",
      "source": [
        "coeff_df = pd.DataFrame(regressor.coef_,['Make_Buick', 'Make_Cadillac', 'Make_Chevrolet',\n",
        "       'Make_Pontiac', 'Make_SAAB', 'Make_Saturn', 'Model_9-2X AWD',\n",
        "       'Model_9_3', 'Model_9_3 HO', 'Model_9_5', 'Model_9_5 HO', 'Model_AVEO',\n",
        "       'Model_Bonneville', 'Model_CST-V', 'Model_CTS', 'Model_Cavalier',\n",
        "       'Model_Century', 'Model_Classic', 'Model_Cobalt', 'Model_Corvette',\n",
        "       'Model_Deville', 'Model_G6', 'Model_GTO', 'Model_Grand Am',\n",
        "       'Model_Grand Prix', 'Model_Impala', 'Model_Ion', 'Model_L Series',\n",
        "       'Model_Lacrosse', 'Model_Lesabre', 'Model_Malibu', 'Model_Monte Carlo',\n",
        "       'Model_Park Avenue', 'Model_STS-V6', 'Model_STS-V8', 'Model_Sunfire',\n",
        "       'Model_Vibe', 'Model_XLR-V8','Type_Convertible', 'Type_Coupe',\n",
        "       'Type_Hatchback', 'Type_Sedan', 'Type_Wagon'], columns=['Coefficient'])\n",
        "y_pred = regressor.predict(X_test_scaled)\n",
        "coeff_df\n"
      ],
      "metadata": {
        "id": "9476xYPhXz1B"
      },
      "execution_count": null,
      "outputs": []
    },
    {
      "cell_type": "markdown",
      "source": [
        "\n",
        "Actual vs Predicted values"
      ],
      "metadata": {
        "id": "JUfExJ_3X5vI"
      }
    },
    {
      "cell_type": "code",
      "source": [
        "df = pd.DataFrame({'Actual': y_test, 'Predicted': y_pred})\n",
        "df.head()"
      ],
      "metadata": {
        "id": "FoapdL9EX6d_"
      },
      "execution_count": null,
      "outputs": []
    },
    {
      "cell_type": "markdown",
      "source": [
        "**Calculating R2-Square**"
      ],
      "metadata": {
        "id": "v4goQXu-YA50"
      }
    },
    {
      "cell_type": "code",
      "source": [
        "from sklearn import metrics\n",
        "print('R2- SCORE:', metrics.r2_score(y_test,y_pred))"
      ],
      "metadata": {
        "id": "x-9tdv6cX8yL"
      },
      "execution_count": null,
      "outputs": []
    },
    {
      "cell_type": "markdown",
      "source": [
        "The R2 square value of make,body and type colums for this dataset is 96.16%.\n",
        "\n",
        "These columns are best fit for model"
      ],
      "metadata": {
        "id": "Habv8ZWEX-zD"
      }
    },
    {
      "cell_type": "markdown",
      "source": [
        "**2. Find the best combination of factors to predict price.**"
      ],
      "metadata": {
        "id": "lXOQOli8YHDf"
      }
    },
    {
      "cell_type": "code",
      "source": [
        "from sklearn.feature_selection import RFE\n",
        "estimator = LinearRegression()\n",
        "selector = RFE(estimator, n_features_to_select=6, step=1)\n",
        "selector = selector.fit(X_train_scaled, y_train)\n",
        "list(zip(['Make_Buick', 'Make_Cadillac', 'Make_Chevrolet',\n",
        "       'Make_Pontiac', 'Make_SAAB', 'Make_Saturn', 'Model_9-2X AWD',\n",
        "       'Model_9_3', 'Model_9_3 HO', 'Model_9_5', 'Model_9_5 HO', 'Model_AVEO',\n",
        "       'Model_Bonneville', 'Model_CST-V', 'Model_CTS', 'Model_Cavalier',\n",
        "       'Model_Century', 'Model_Classic', 'Model_Cobalt', 'Model_Corvette',\n",
        "       'Model_Deville', 'Model_G6', 'Model_GTO', 'Model_Grand Am',\n",
        "       'Model_Grand Prix', 'Model_Impala', 'Model_Ion', 'Model_L Series',\n",
        "       'Model_Lacrosse', 'Model_Lesabre', 'Model_Malibu', 'Model_Monte Carlo',\n",
        "       'Model_Park Avenue', 'Model_STS-V6', 'Model_STS-V8', 'Model_Sunfire',\n",
        "       'Model_Vibe', 'Model_XLR-V8','Type_Convertible', 'Type_Coupe',\n",
        "       'Type_Hatchback', 'Type_Sedan', 'Type_Wagon'],selector.support_))\n"
      ],
      "metadata": {
        "id": "n9k8sh-YYMJq"
      },
      "execution_count": null,
      "outputs": []
    },
    {
      "cell_type": "markdown",
      "source": [
        "**Make_Pontiac,Model_GTO,Model_Grand Am,Model_Grand Prix,Model_Sunfire and Model_Vibe combination columns are best facotrs for predicting the price.**"
      ],
      "metadata": {
        "id": "fk1ysZK_YOpD"
      }
    }
  ]
}